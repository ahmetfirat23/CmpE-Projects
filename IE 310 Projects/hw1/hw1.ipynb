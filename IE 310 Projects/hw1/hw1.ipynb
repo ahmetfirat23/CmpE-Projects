{
 "cells": [
  {
   "cell_type": "markdown",
   "metadata": {},
   "source": [
    "3(160x + 100y + 200z + 75a) + 7(30x + 35y + 60z + 80a)\n",
    "= 690x + 545y + 1020z + 785a minimize\n",
    "\n",
    "20x + 30y + 10z + 25a <= 1000\n",
    "160x + 100y + 200z + 75a <= 8000\n",
    "30x + 35y + 60z + 80a <= 4000\n",
    "\n",
    "35x + 45y + 70z + 0a >= 2100\n",
    "55x + 42y + 0z + 90a >= 1800\n",
    "\n",
    "30 >= x >= 0\n",
    "30 >= y >= 0\n",
    "30 >= z >= 0\n",
    "30 >= a >= 0\n"
   ]
  },
  {
   "cell_type": "code",
   "execution_count": 1,
   "metadata": {},
   "outputs": [],
   "source": [
    "from sys import maxsize"
   ]
  },
  {
   "cell_type": "code",
   "execution_count": 2,
   "metadata": {},
   "outputs": [],
   "source": [
    "minimum = maxsize\n",
    "for x in range(31):\n",
    "    for y in range(31):\n",
    "        for z in range(31):\n",
    "            for a in range(31):\n",
    "                curr = 690*x + 545*y + 1020*z + 785*a\n",
    "                \n",
    "                cond_1 = (20*x + 30*y + 10*z + 25*a) <= 1000\n",
    "                cond_2 = (160*x + 100*y + 200*z + 75*a) <= 8000\n",
    "                cond_3 = (30*x + 35*y + 60*z + 80*a) <= 4000\n",
    "\n",
    "                cond_4 = (35*x + 45*y + 70*z + 0*a) >= 2100\n",
    "                cond_5 = (55*x + 42*y + 0*z + 90*a) >= 1800\n",
    "                cond = cond_1 + cond_2 + cond_3 + cond_4 + cond_5\n",
    "                if cond == 5 and curr < minimum:\n",
    "                    minimum = curr\n",
    "                    solution = [x,y,z,a]"
   ]
  },
  {
   "cell_type": "code",
   "execution_count": 3,
   "metadata": {},
   "outputs": [],
   "source": [
    "minimum = maxsize\n",
    "for x in range(31):\n",
    "    for y in range(31):\n",
    "        for z in range(31):\n",
    "            for a in range(31):\n",
    "                curr = 690*x + 545*y + 1020*z + 785*a\n",
    "\n",
    "                if ((20*x + 30*y + 10*z + 25*a) <= 1000) \\\n",
    "                and ((160*x + 100*y + 200*z + 75*a) <= 8000) \\\n",
    "                and ((30*x + 35*y + 60*z + 80*a) <= 4000) \\\n",
    "                and ((35*x + 45*y + 70*z + 0*a) >= 2100) \\\n",
    "                and ((55*x + 42*y + 0*z + 90*a) >= 1800) \\\n",
    "                and curr < minimum:\n",
    "                    minimum = curr\n",
    "                    solution = [x,y,z,a]"
   ]
  },
  {
   "cell_type": "code",
   "execution_count": 4,
   "metadata": {},
   "outputs": [
    {
     "data": {
      "text/plain": [
       "[23, 15, 9, 0]"
      ]
     },
     "execution_count": 4,
     "metadata": {},
     "output_type": "execute_result"
    }
   ],
   "source": [
    "solution"
   ]
  },
  {
   "cell_type": "code",
   "execution_count": 5,
   "metadata": {},
   "outputs": [
    {
     "data": {
      "text/plain": [
       "33225"
      ]
     },
     "execution_count": 5,
     "metadata": {},
     "output_type": "execute_result"
    }
   ],
   "source": [
    "minimum"
   ]
  },
  {
   "cell_type": "code",
   "execution_count": 6,
   "metadata": {},
   "outputs": [
    {
     "ename": "KeyboardInterrupt",
     "evalue": "",
     "output_type": "error",
     "traceback": [
      "\u001b[0;31m---------------------------------------------------------------------------\u001b[0m",
      "\u001b[0;31mKeyboardInterrupt\u001b[0m                         Traceback (most recent call last)",
      "\u001b[1;32m/Users/afg/ie/hw1.ipynb Cell 7\u001b[0m line \u001b[0;36m1\n\u001b[1;32m     <a href='vscode-notebook-cell:/Users/afg/ie/hw1.ipynb#W6sZmlsZQ%3D%3D?line=13'>14</a>\u001b[0m cond_5 \u001b[39m=\u001b[39m (\u001b[39m55\u001b[39m\u001b[39m*\u001b[39mx \u001b[39m+\u001b[39m \u001b[39m42\u001b[39m\u001b[39m*\u001b[39my \u001b[39m+\u001b[39m \u001b[39m0\u001b[39m\u001b[39m*\u001b[39mz \u001b[39m+\u001b[39m \u001b[39m90\u001b[39m\u001b[39m*\u001b[39ma) \u001b[39m>\u001b[39m\u001b[39m=\u001b[39m \u001b[39m1800\u001b[39m\n\u001b[1;32m     <a href='vscode-notebook-cell:/Users/afg/ie/hw1.ipynb#W6sZmlsZQ%3D%3D?line=14'>15</a>\u001b[0m cond \u001b[39m=\u001b[39m cond_1 \u001b[39m+\u001b[39m cond_2 \u001b[39m+\u001b[39m cond_3 \u001b[39m+\u001b[39m cond_4 \u001b[39m+\u001b[39m cond_5\n\u001b[0;32m---> <a href='vscode-notebook-cell:/Users/afg/ie/hw1.ipynb#W6sZmlsZQ%3D%3D?line=15'>16</a>\u001b[0m \u001b[39mif\u001b[39;00m cond \u001b[39m==\u001b[39m \u001b[39m5\u001b[39m \u001b[39mand\u001b[39;00m curr \u001b[39m<\u001b[39m minimum_with_ex:\n\u001b[1;32m     <a href='vscode-notebook-cell:/Users/afg/ie/hw1.ipynb#W6sZmlsZQ%3D%3D?line=16'>17</a>\u001b[0m     minimum_with_ex \u001b[39m=\u001b[39m curr\n\u001b[1;32m     <a href='vscode-notebook-cell:/Users/afg/ie/hw1.ipynb#W6sZmlsZQ%3D%3D?line=17'>18</a>\u001b[0m     solution \u001b[39m=\u001b[39m [x,y,z,a,b]\n",
      "\u001b[0;31mKeyboardInterrupt\u001b[0m: "
     ]
    }
   ],
   "source": [
    "minimum_with_ex = maxsize\n",
    "for x in range(31):\n",
    "    for y in range(31):\n",
    "        for z in range(31):\n",
    "            for a in range(31):\n",
    "                for b in range(201):\n",
    "                    curr = 690*x + 545*y + 1020*z + 785*a + 30*b\n",
    "\n",
    "                    cond_1 = (20*x + 30*y + 10*z + 25*a) <= 1000 + b\n",
    "                    cond_2 = (160*x + 100*y + 200*z + 75*a) <= 8000\n",
    "                    cond_3 = (30*x + 35*y + 60*z + 80*a) <= 4000\n",
    "                    \n",
    "                    cond_4 = (35*x + 45*y + 70*z + 0*a) >= 2100\n",
    "                    cond_5 = (55*x + 42*y + 0*z + 90*a) >= 1800\n",
    "                    cond = cond_1 + cond_2 + cond_3 + cond_4 + cond_5\n",
    "                    if cond == 5 and curr < minimum_with_ex:\n",
    "                        minimum_with_ex = curr\n",
    "                        solution = [x,y,z,a,b]"
   ]
  },
  {
   "cell_type": "code",
   "execution_count": null,
   "metadata": {},
   "outputs": [],
   "source": [
    "minimum_with_ex = maxsize\n",
    "for x in range(31):\n",
    "    for y in range(31):\n",
    "        for z in range(31):\n",
    "            for a in range(31):\n",
    "                for b in range(201):\n",
    "                    curr = 690*x + 545*y + 1020*z + 785*a + 30*b\n",
    "\n",
    "                    if ((20*x + 30*y + 10*z + 25*a) <= 1000 + b) \\\n",
    "                    and ((160*x + 100*y + 200*z + 75*a) <= 8000) \\\n",
    "                    and ((30*x + 35*y + 60*z + 80*a) <= 4000) \\\n",
    "                    and ((35*x + 45*y + 70*z + 0*a) >= 2100) \\\n",
    "                    and ((55*x + 42*y + 0*z + 90*a) >= 1800) \\\n",
    "                    and curr < minimum:\n",
    "                        minimum_with_ex = curr\n",
    "                        solution_with_ex = [x,y,z,a,b]"
   ]
  },
  {
   "cell_type": "code",
   "execution_count": null,
   "metadata": {},
   "outputs": [
    {
     "data": {
      "text/plain": [
       "[19, 18, 9, 0, 10]"
      ]
     },
     "execution_count": 9,
     "metadata": {},
     "output_type": "execute_result"
    }
   ],
   "source": [
    "solution"
   ]
  },
  {
   "cell_type": "code",
   "execution_count": null,
   "metadata": {},
   "outputs": [
    {
     "data": {
      "text/plain": [
       "32400"
      ]
     },
     "execution_count": 10,
     "metadata": {},
     "output_type": "execute_result"
    }
   ],
   "source": [
    "minimum_with_ex"
   ]
  },
  {
   "cell_type": "code",
   "execution_count": null,
   "metadata": {},
   "outputs": [],
   "source": [
    "import numpy"
   ]
  },
  {
   "cell_type": "code",
   "execution_count": null,
   "metadata": {},
   "outputs": [],
   "source": [
    "coeff_matrix = numpy.array([[20, 30, 10, 25],\n",
    "                            [160, 100, 200, 75],\n",
    "                            [30, 35, 60, 80],\n",
    "                            [-35, -45, -70, 0],\n",
    "                            [-55, -42, 0, -90]])\n",
    "dependent = numpy.array([1000, 8000, 4000, -2100, -1800])"
   ]
  },
  {
   "cell_type": "code",
   "execution_count": null,
   "metadata": {},
   "outputs": [
    {
     "ename": "LinAlgError",
     "evalue": "Last 2 dimensions of the array must be square",
     "output_type": "error",
     "traceback": [
      "\u001b[0;31m---------------------------------------------------------------------------\u001b[0m",
      "\u001b[0;31mLinAlgError\u001b[0m                               Traceback (most recent call last)",
      "\u001b[1;32m/Users/afg/ie/hw1.ipynb Cell 8\u001b[0m line \u001b[0;36m1\n\u001b[0;32m----> <a href='vscode-notebook-cell:/Users/afg/ie/hw1.ipynb#X23sZmlsZQ%3D%3D?line=0'>1</a>\u001b[0m numpy\u001b[39m.\u001b[39;49mlinalg\u001b[39m.\u001b[39;49msolve(coeff_matrix, dependent)\n",
      "File \u001b[0;32m~/Documents/codes/codes/.conda/lib/python3.10/site-packages/numpy/linalg/linalg.py:396\u001b[0m, in \u001b[0;36msolve\u001b[0;34m(a, b)\u001b[0m\n\u001b[1;32m    394\u001b[0m a, _ \u001b[39m=\u001b[39m _makearray(a)\n\u001b[1;32m    395\u001b[0m _assert_stacked_2d(a)\n\u001b[0;32m--> 396\u001b[0m _assert_stacked_square(a)\n\u001b[1;32m    397\u001b[0m b, wrap \u001b[39m=\u001b[39m _makearray(b)\n\u001b[1;32m    398\u001b[0m t, result_t \u001b[39m=\u001b[39m _commonType(a, b)\n",
      "File \u001b[0;32m~/Documents/codes/codes/.conda/lib/python3.10/site-packages/numpy/linalg/linalg.py:213\u001b[0m, in \u001b[0;36m_assert_stacked_square\u001b[0;34m(*arrays)\u001b[0m\n\u001b[1;32m    211\u001b[0m m, n \u001b[39m=\u001b[39m a\u001b[39m.\u001b[39mshape[\u001b[39m-\u001b[39m\u001b[39m2\u001b[39m:]\n\u001b[1;32m    212\u001b[0m \u001b[39mif\u001b[39;00m m \u001b[39m!=\u001b[39m n:\n\u001b[0;32m--> 213\u001b[0m     \u001b[39mraise\u001b[39;00m LinAlgError(\u001b[39m'\u001b[39m\u001b[39mLast 2 dimensions of the array must be square\u001b[39m\u001b[39m'\u001b[39m)\n",
      "\u001b[0;31mLinAlgError\u001b[0m: Last 2 dimensions of the array must be square"
     ]
    }
   ],
   "source": [
    "numpy.linalg.solve(coeff_matrix, dependent)"
   ]
  },
  {
   "cell_type": "code",
   "execution_count": null,
   "metadata": {},
   "outputs": [],
   "source": [
    "cond_1 = (20*x + 30*y + 10*z + 25*a) <= 1000\n",
    "cond_2 = (160*x + 100*y + 200*z + 75*a) <= 8000\n",
    "cond_3 = (30*x + 35*y + 60*z + 80*a) <= 4000\n",
    "\n",
    "cond_4 = (35*x + 45*y + 70*z + 0*a) >= 2100\n",
    "cond_5 = (55*x + 42*y + 0*z + 90*a) >= 1800"
   ]
  }
 ],
 "metadata": {
  "kernelspec": {
   "display_name": "Python 3",
   "language": "python",
   "name": "python3"
  },
  "language_info": {
   "codemirror_mode": {
    "name": "ipython",
    "version": 3
   },
   "file_extension": ".py",
   "mimetype": "text/x-python",
   "name": "python",
   "nbconvert_exporter": "python",
   "pygments_lexer": "ipython3",
   "version": "3.10.13"
  }
 },
 "nbformat": 4,
 "nbformat_minor": 2
}
