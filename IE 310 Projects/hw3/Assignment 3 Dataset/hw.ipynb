{
 "cells": [
  {
   "cell_type": "code",
   "execution_count": 816,
   "metadata": {},
   "outputs": [],
   "source": [
    "class Inverter:\n",
    "    def get_rank(self):\n",
    "        res = 0\n",
    "        zero_indices = []\n",
    "        for i in range(len(self.matrix)):\n",
    "            if self.matrix[i][i] == 0:\n",
    "                zero_indices.append(i)\n",
    "                continue\n",
    "            res += 1\n",
    "        return res, zero_indices\n",
    "\n",
    "    def gaussian_elimination(self):\n",
    "        n = len(self.matrix)\n",
    "        for i in range(n):\n",
    "            flag = True\n",
    "            if self.matrix[i][i] == 0:\n",
    "                for j in range(i, n):\n",
    "                    if self.matrix[j][i] != 0:\n",
    "                        tmp = self.matrix[j]\n",
    "                        self.matrix[j] = self.matrix[i]\n",
    "                        self.matrix[i] = tmp\n",
    "                        flag = False\n",
    "\n",
    "                        tmp = self.identity_matrix[i]\n",
    "                        self.identity_matrix[i] = self.identity_matrix[j]\n",
    "                        self.identity_matrix[j] = tmp\n",
    "\n",
    "                        break\n",
    "                if flag:  # if all the columns are 0 continue with the other column\n",
    "                    continue\n",
    "\n",
    "            factor = self.matrix[i][i]  # we made sure that factor is not zero\n",
    "            for j in range(n):  # devide the row with factor so that pivot will be 1\n",
    "                self.matrix[i][j] /= factor\n",
    "                if j != n:\n",
    "                    self.identity_matrix[i][j] /= factor\n",
    "\n",
    "            for j in range(n):\n",
    "                if i == j:\n",
    "                    continue\n",
    "                factor = self.matrix[j][i]\n",
    "                for k in range(n):\n",
    "                    self.matrix[j][k] -= factor * self.matrix[i][k]  # subtract rows\n",
    "                    if -1e-10 <self.matrix[j][k] < 1e-10:\n",
    "                        self.matrix[j][k] = 0\n",
    "                    if k != n:\n",
    "                        self.identity_matrix[j][k] -= factor * self.identity_matrix[i][k]\n",
    "\n",
    "    # This function creates identity matrix in order to be able to get inverse of matrix A after applying\n",
    "    # the same row operations with the matrix A\n",
    "    def create_identity(self):\n",
    "        identity = []\n",
    "        for i in range(self.n):\n",
    "            tmp = []\n",
    "            for j in range(self.n):\n",
    "                if i == j:\n",
    "                    tmp.append(1)\n",
    "                else:\n",
    "                    tmp.append(0)\n",
    "            identity.append(tmp)\n",
    "        return identity\n",
    "\n",
    "    def invert(self, matrix):\n",
    "        self.matrix = matrix\n",
    "        self.n = len(self.matrix)\n",
    "        self.identity_matrix = self.create_identity()\n",
    "\n",
    "        self.gaussian_elimination()\n",
    "\n",
    "        rank, zero_indices = self.get_rank()\n",
    "        if rank != self.n:\n",
    "            for i in zero_indices:\n",
    "                if self.matrix[i][self.n] != 0:\n",
    "                    print(\"Inconsistent problem\")\n",
    "                    return\n",
    " \n",
    "        return self.identity_matrix\n"
   ]
  },
  {
   "cell_type": "code",
   "execution_count": 679,
   "metadata": {},
   "outputs": [],
   "source": [
    "inverter = Inverter()"
   ]
  },
  {
   "cell_type": "code",
   "execution_count": 593,
   "metadata": {},
   "outputs": [],
   "source": [
    "def transposeMatrix(m):\n",
    "    return list(map(list,zip(*m)))\n",
    "\n",
    "def getMatrixMinor(m,i,j):\n",
    "    return [row[:j] + row[j+1:] for row in (m[:i]+m[i+1:])]\n",
    "\n",
    "def getMatrixDeternminant(m):\n",
    "    #base case for 2x2 matrix\n",
    "    if len(m) == 2:\n",
    "        return m[0][0]*m[1][1]-m[0][1]*m[1][0]\n",
    "\n",
    "    determinant = 0\n",
    "    for c in range(len(m)):\n",
    "        determinant += ((-1)**c)*m[0][c]*getMatrixDeternminant(getMatrixMinor(m,0,c))\n",
    "    return determinant\n",
    "\n",
    "def getMatrixInverse(m):\n",
    "    determinant = getMatrixDeternminant(m)\n",
    "    #special case for 2x2 matrix:\n",
    "    if len(m) == 2:\n",
    "        return [[m[1][1]/determinant, -1*m[0][1]/determinant],\n",
    "                [-1*m[1][0]/determinant, m[0][0]/determinant]]\n",
    "\n",
    "    #find matrix of cofactors\n",
    "    cofactors = []\n",
    "    for r in range(len(m)):\n",
    "        cofactorRow = []\n",
    "        for c in range(len(m)):\n",
    "            minor = getMatrixMinor(m,r,c)\n",
    "            cofactorRow.append(((-1)**(r+c)) * getMatrixDeternminant(minor))\n",
    "        cofactors.append(cofactorRow)\n",
    "    cofactors = transposeMatrix(cofactors)\n",
    "    for r in range(len(cofactors)):\n",
    "        for c in range(len(cofactors)):\n",
    "            cofactors[r][c] = cofactors[r][c]/determinant\n",
    "    return cofactors"
   ]
  },
  {
   "cell_type": "code",
   "execution_count": 594,
   "metadata": {},
   "outputs": [],
   "source": [
    "def create_identity(n):\n",
    "    identity = []\n",
    "    for i in range(n):\n",
    "        tmp = []\n",
    "        for j in range(n):\n",
    "            if i == j:\n",
    "                tmp.append(1.0)\n",
    "            else:\n",
    "                tmp.append(0.0)\n",
    "        identity.append(tmp)\n",
    "    return identity"
   ]
  },
  {
   "cell_type": "code",
   "execution_count": 849,
   "metadata": {},
   "outputs": [],
   "source": [
    "def get_input(file_path):\n",
    "    with open(file_path, \"r\") as f:\n",
    "        m, n = f.readline().split()\n",
    "        c = [float(i) for i in f.readline().strip().split()]\n",
    "        A,b = [],[]\n",
    "        for row in f.readlines():\n",
    "            line = [float(i) for i in row.strip().split()]\n",
    "            A.append(line[:-1])\n",
    "            b.append(line[-1])\n",
    "                \n",
    "        return int(m), int(n), c, A,b"
   ]
  },
  {
   "cell_type": "code",
   "execution_count": 596,
   "metadata": {},
   "outputs": [],
   "source": [
    "def arg_min(arr):\n",
    "    min_index = 0\n",
    "    for i in range(len(arr)):\n",
    "        if arr[i] < arr[min_index]:\n",
    "            min_index = i\n",
    "    return min_index"
   ]
  },
  {
   "cell_type": "code",
   "execution_count": 597,
   "metadata": {},
   "outputs": [],
   "source": [
    "def min_ratio(ratios):\n",
    "    min_index = 0\n",
    "    x_count = 0\n",
    "    for i in range(len(ratios)):\n",
    "        if type(ratios[i]) == str:\n",
    "            x_count += 1\n",
    "            if min_index == i:\n",
    "                min_index += 1\n",
    "            \n",
    "        elif ratios[i] < ratios[min_index]:\n",
    "            min_index = i\n",
    "    if x_count == len(ratios):\n",
    "        raise Exception(\"Unbounded problem\")\n",
    "    return min_index"
   ]
  },
  {
   "cell_type": "code",
   "execution_count": 730,
   "metadata": {},
   "outputs": [],
   "source": [
    "m,n,c,A,b =get_input(\"test.txt\")"
   ]
  },
  {
   "cell_type": "code",
   "execution_count": 731,
   "metadata": {},
   "outputs": [],
   "source": [
    "c = [i * -1 for i in c]\n",
    "c.extend([0.0 for i in range(m)])"
   ]
  },
  {
   "cell_type": "code",
   "execution_count": 732,
   "metadata": {},
   "outputs": [],
   "source": [
    "B = create_identity(m)\n",
    "B_inverse = inverter.invert(B)"
   ]
  },
  {
   "cell_type": "code",
   "execution_count": 735,
   "metadata": {},
   "outputs": [],
   "source": [
    "for i in range(m):\n",
    "    A[i].extend(B_inverse[i])"
   ]
  },
  {
   "cell_type": "code",
   "execution_count": 736,
   "metadata": {},
   "outputs": [],
   "source": [
    "nbv = {i:i for i in range(n)}\n",
    "bv = {i:n+i for i in range(m)}"
   ]
  },
  {
   "cell_type": "code",
   "execution_count": 737,
   "metadata": {},
   "outputs": [],
   "source": [
    "cB = [0 for i in range(m)]"
   ]
  },
  {
   "cell_type": "code",
   "execution_count": 863,
   "metadata": {},
   "outputs": [],
   "source": [
    "m,n,c,A,b =get_input(\"test.txt\")\n",
    "\n",
    "c = [i * -1 for i in c]\n",
    "c.extend([0.0 for i in range(m)])\n",
    "\n",
    "B = create_identity(m)\n",
    "B_inverse = inverter.invert(B)\n",
    "\n",
    "for i in range(m):\n",
    "    A[i].extend(B_inverse[i])\n",
    "\n",
    "nbv = {i:i for i in range(n)}\n",
    "bv = {i:n+i for i in range(m)}\n",
    "\n",
    "cB = [0 for i in range(m)]"
   ]
  },
  {
   "cell_type": "markdown",
   "metadata": {},
   "source": [
    "# loop from here"
   ]
  },
  {
   "cell_type": "code",
   "execution_count": 861,
   "metadata": {},
   "outputs": [],
   "source": [
    "from IPython.display import display, Markdown, Latex"
   ]
  },
  {
   "cell_type": "code",
   "execution_count": 864,
   "metadata": {},
   "outputs": [
    {
     "data": {
      "text/plain": [
       "[0.0, 0.0, 0.0]"
      ]
     },
     "metadata": {},
     "output_type": "display_data"
    },
    {
     "data": {
      "text/plain": [
       "[-60.0, -30.0, -20.0]"
      ]
     },
     "metadata": {},
     "output_type": "display_data"
    },
    {
     "data": {
      "text/plain": [
       "[8.0, 4.0, 2.0]"
      ]
     },
     "metadata": {},
     "output_type": "display_data"
    },
    {
     "data": {
      "text/plain": [
       "[48.0, 20.0, 8.0]"
      ]
     },
     "metadata": {},
     "output_type": "display_data"
    },
    {
     "data": {
      "text/plain": [
       "{0: 6.0, 1: 5.0, 2: 4.0}"
      ]
     },
     "metadata": {},
     "output_type": "display_data"
    },
    {
     "data": {
      "text/plain": [
       "2"
      ]
     },
     "metadata": {},
     "output_type": "display_data"
    },
    {
     "data": {
      "text/plain": [
       "[[1.0, 0, 0], [0, 1.0, 0], [8.0, 4.0, 2.0]]"
      ]
     },
     "metadata": {},
     "output_type": "display_data"
    },
    {
     "data": {
      "text/plain": [
       "[[1.0, 0, 0], [0, 1.0, 0], [8.0, 4.0, 2.0]]"
      ]
     },
     "metadata": {},
     "output_type": "display_data"
    },
    {
     "data": {
      "text/plain": [
       "[[1.0, 0, 0], [0, 1.0, 0], [0.0, 0.0, 1.0]]"
      ]
     },
     "metadata": {},
     "output_type": "display_data"
    },
    {
     "data": {
      "text/plain": [
       "[[1.0, 0.0, 0.0], [0.0, 1.0, 0.0], [-4.0, -2.0, 0.5]]"
      ]
     },
     "metadata": {},
     "output_type": "display_data"
    },
    {
     "data": {
      "text/plain": [
       "[0, 0, -60.0]"
      ]
     },
     "metadata": {},
     "output_type": "display_data"
    },
    {
     "data": {
      "text/plain": [
       "[0.0, 0.0, -30.0]"
      ]
     },
     "metadata": {},
     "output_type": "display_data"
    },
    {
     "data": {
      "text/plain": [
       "[30.0, 15.0, -5.0]"
      ]
     },
     "metadata": {},
     "output_type": "display_data"
    },
    {
     "data": {
      "text/plain": [
       "[-1.0, 0.5, 0.25]"
      ]
     },
     "metadata": {},
     "output_type": "display_data"
    },
    {
     "data": {
      "text/plain": [
       "[16.0, 4.0, 4.0]"
      ]
     },
     "metadata": {},
     "output_type": "display_data"
    },
    {
     "data": {
      "text/plain": [
       "{0: 'x', 1: 8.0, 2: 16.0}"
      ]
     },
     "metadata": {},
     "output_type": "display_data"
    },
    {
     "data": {
      "text/plain": [
       "1"
      ]
     },
     "metadata": {},
     "output_type": "display_data"
    },
    {
     "data": {
      "text/plain": [
       "[[1.0, 0, 0], [1.0, 1.5, 0.5], [8.0, 4.0, 2.0]]"
      ]
     },
     "metadata": {},
     "output_type": "display_data"
    },
    {
     "data": {
      "text/plain": [
       "[[1.0, 0, 0], [1.0, 1.5, 0.5], [8.0, 4.0, 2.0]]"
      ]
     },
     "metadata": {},
     "output_type": "display_data"
    },
    {
     "data": {
      "text/plain": [
       "[[1.0, 0, 0], [0, 1.0, 0], [0.0, 0.0, 1.0]]"
      ]
     },
     "metadata": {},
     "output_type": "display_data"
    },
    {
     "data": {
      "text/plain": [
       "[[1.0, 0.0, 0.0],\n",
       " [2.0, 1.9999999999999996, -0.4999999999999999],\n",
       " [-8.0, -3.9999999999999996, 1.4999999999999998]]"
      ]
     },
     "metadata": {},
     "output_type": "display_data"
    },
    {
     "data": {
      "text/plain": [
       "[0, -20.0, -60.0]"
      ]
     },
     "metadata": {},
     "output_type": "display_data"
    },
    {
     "data": {
      "text/plain": [
       "[0.0, -10.0, -10.0]"
      ]
     },
     "metadata": {},
     "output_type": "display_data"
    },
    {
     "data": {
      "text/plain": [
       "[10.0, 5.0, 10.0]"
      ]
     },
     "metadata": {},
     "output_type": "display_data"
    },
    {
     "data": {
      "text/plain": [
       "[-2.0, -2.0, 1.2499999999999998]"
      ]
     },
     "metadata": {},
     "output_type": "display_data"
    },
    {
     "data": {
      "text/plain": [
       "[24.0, 7.9999999999999964, 2.0]"
      ]
     },
     "metadata": {},
     "output_type": "display_data"
    },
    {
     "data": {
      "text/plain": [
       "{0: 'x', 1: 'x', 2: 1.6000000000000003}"
      ]
     },
     "metadata": {},
     "output_type": "display_data"
    },
    {
     "data": {
      "text/plain": [
       "2"
      ]
     },
     "metadata": {},
     "output_type": "display_data"
    },
    {
     "name": "stdout",
     "output_type": "stream",
     "text": [
      "Solution found\n",
      "Optimal solution:\n",
      "x 4 =  24.0\n",
      "x 3 =  7.9999999999999964\n",
      "x 1 =  2.0\n",
      "z =  -280.0\n"
     ]
    }
   ],
   "source": [
    "while True:\n",
    "    price_out_factor = [0 for i in range(m)]\n",
    "    for i in range(m):\n",
    "        for j in range(m):\n",
    "            price_out_factor[i] += cB[j] * B_inverse[i][j]\n",
    "    display(price_out_factor)\n",
    "    \n",
    "    c_star = [0 for i in range(n)]\n",
    "    for index, nonbasic in nbv.items():\n",
    "        c_star[index] = c[nonbasic]\n",
    "        for j in range(m):\n",
    "            c_star[index] -= price_out_factor[j] * A[j][nonbasic]\n",
    "    index = arg_min(c_star)\n",
    "    x_i = nbv[index]    \n",
    "    display(c_star)\n",
    "\n",
    "    A_star = [0 for i in range(m)]\n",
    "    for i in range(m):\n",
    "        for j in range(m):\n",
    "            A_star[i] += B_inverse[j][i] * A[j][x_i]    \n",
    "    display(A_star)\n",
    "\n",
    "    b_star = [0 for i in range(m)]\n",
    "    for i in range(m):\n",
    "        for j in range(m):\n",
    "            b_star[i] += B_inverse[j][i] * b[j]    \n",
    "    display(b_star)\n",
    "\n",
    "    row_ratios = {i:\"x\" for i in range(m)}\n",
    "    for i in range(m):\n",
    "        if A_star[i] > 0:\n",
    "            row_ratios[i] = b_star[i] / A_star[i]\n",
    "\n",
    "    row = min_ratio(row_ratios)    \n",
    "    display(row_ratios)\n",
    "    display(row)\n",
    "\n",
    "    all_nonnegative = True\n",
    "    for coeff in c_star:\n",
    "        if coeff < 0:\n",
    "            all_nonnegative = False\n",
    "            break\n",
    "    if (all_nonnegative):\n",
    "        print(\"Solution found\")\n",
    "        print(\"Optimal solution:\")\n",
    "        z = 0\n",
    "        for basic in bv:\n",
    "            print(\"x\", bv[basic]+1, end=\" \")\n",
    "            print(\"= \", b_star[basic], end=\"\\n\")\n",
    "        for i in range(m):\n",
    "            z += price_out_factor[i] * b[i]\n",
    "        \n",
    "        print(\"z = \",z)\n",
    "        break\n",
    "\n",
    "    tmp = bv[row]\n",
    "    bv[row] = x_i\n",
    "    nbv[index] = tmp   \n",
    "\n",
    "    B[row] = [A[j][x_i] for j in range(m)]\n",
    "    display(B)\n",
    "    B_copy = [[float(x) for x in row] for row in B]\n",
    "    B_inverse = inverter.invert(B_copy)\n",
    "    display(B)\n",
    "    display(B_copy)\n",
    "    display(B_inverse)\n",
    "    cB[row] = c[x_i]\n",
    "    display(cB)"
   ]
  },
  {
   "cell_type": "code",
   "execution_count": 763,
   "metadata": {},
   "outputs": [],
   "source": [
    "price_out_factor = [0 for i in range(m)]\n",
    "for i in range(n):\n",
    "    for j in range(n):\n",
    "        price_out_factor[i] += cB[j] * B_inverse[i][j]"
   ]
  },
  {
   "cell_type": "code",
   "execution_count": 764,
   "metadata": {},
   "outputs": [
    {
     "data": {
      "text/plain": [
       "[0.0, 0.0, -30.0]"
      ]
     },
     "execution_count": 764,
     "metadata": {},
     "output_type": "execute_result"
    }
   ],
   "source": [
    "price_out_factor"
   ]
  },
  {
   "cell_type": "code",
   "execution_count": 765,
   "metadata": {},
   "outputs": [],
   "source": [
    "c_star = [0 for i in range(n)]\n",
    "for index, nonbasic in nbv.items():\n",
    "    c_star[index] = c[nonbasic]\n",
    "    for j in range(n):\n",
    "        c_star[index] -= price_out_factor[j] * A[j][nonbasic]\n",
    "index = arg_min(c_star)\n",
    "x_i = nbv[index]"
   ]
  },
  {
   "cell_type": "code",
   "execution_count": 766,
   "metadata": {},
   "outputs": [
    {
     "data": {
      "text/plain": [
       "([30.0, 15.0, -5.0], 2, 2)"
      ]
     },
     "execution_count": 766,
     "metadata": {},
     "output_type": "execute_result"
    }
   ],
   "source": [
    "c_star, x_i, index"
   ]
  },
  {
   "cell_type": "code",
   "execution_count": 767,
   "metadata": {},
   "outputs": [],
   "source": [
    "A_star = [0 for i in range(m)]\n",
    "for i in range(m):\n",
    "    for j in range(m):\n",
    "        A_star[i] += B_inverse[j][i] * A[j][x_i]"
   ]
  },
  {
   "cell_type": "code",
   "execution_count": 768,
   "metadata": {},
   "outputs": [
    {
     "data": {
      "text/plain": [
       "[-1.0, 0.5, 0.25]"
      ]
     },
     "execution_count": 768,
     "metadata": {},
     "output_type": "execute_result"
    }
   ],
   "source": [
    "A_star"
   ]
  },
  {
   "cell_type": "code",
   "execution_count": 769,
   "metadata": {},
   "outputs": [],
   "source": [
    "b_star = [0 for i in range(m)]\n",
    "for i in range(m):\n",
    "    for j in range(m):\n",
    "        b_star[i] += B_inverse[j][i] * b[j]"
   ]
  },
  {
   "cell_type": "code",
   "execution_count": 770,
   "metadata": {},
   "outputs": [
    {
     "data": {
      "text/plain": [
       "[16.0, 4.0, 4.0]"
      ]
     },
     "execution_count": 770,
     "metadata": {},
     "output_type": "execute_result"
    }
   ],
   "source": [
    "b_star"
   ]
  },
  {
   "cell_type": "code",
   "execution_count": 771,
   "metadata": {},
   "outputs": [],
   "source": [
    "row_ratios = {i:\"x\" for i in range(m)}\n",
    "for i in range(m):\n",
    "    if A_star[i] > 0:\n",
    "        row_ratios[i] = b_star[i] / A_star[i]\n",
    "\n",
    "row = min_ratio(row_ratios)"
   ]
  },
  {
   "cell_type": "code",
   "execution_count": 772,
   "metadata": {},
   "outputs": [
    {
     "data": {
      "text/plain": [
       "({0: 'x', 1: 8.0, 2: 16.0}, 1)"
      ]
     },
     "execution_count": 772,
     "metadata": {},
     "output_type": "execute_result"
    }
   ],
   "source": [
    "row_ratios, row"
   ]
  },
  {
   "cell_type": "code",
   "execution_count": 773,
   "metadata": {},
   "outputs": [],
   "source": [
    "all_nonnegative = True\n",
    "for coeff in c_star:\n",
    "    if coeff < 0:\n",
    "        all_nonnegative = False\n",
    "        break\n",
    "if (all_nonnegative):\n",
    "    print(\"Solution found\")\n",
    "    print(\"Optimal solution:\")\n",
    "    z = 0\n",
    "    for basic in bv:\n",
    "        print(\"x\", bv[basic]+1, end=\" \")\n",
    "        print(\"= \", b_star[basic], end=\"\\n\")\n",
    "    for i in range(m):\n",
    "        z += price_out_factor[i] * b[i]\n",
    "    \n",
    "    print(\"z = \",z)\n",
    "\n"
   ]
  },
  {
   "cell_type": "code",
   "execution_count": 774,
   "metadata": {},
   "outputs": [],
   "source": [
    "tmp = bv[row]\n",
    "bv[row] = x_i\n",
    "nbv[index] = tmp"
   ]
  },
  {
   "cell_type": "code",
   "execution_count": 775,
   "metadata": {},
   "outputs": [
    {
     "data": {
      "text/plain": [
       "({0: 3, 1: 2, 2: 0}, {0: 5, 1: 1, 2: 4})"
      ]
     },
     "execution_count": 775,
     "metadata": {},
     "output_type": "execute_result"
    }
   ],
   "source": [
    "bv, nbv"
   ]
  },
  {
   "cell_type": "code",
   "execution_count": 785,
   "metadata": {},
   "outputs": [],
   "source": [
    "B[row] = [A[j][x_i] for j in range(m)]"
   ]
  },
  {
   "cell_type": "code",
   "execution_count": 777,
   "metadata": {},
   "outputs": [],
   "source": [
    "B_inverse = inverter.invert(B)"
   ]
  },
  {
   "cell_type": "code",
   "execution_count": 778,
   "metadata": {},
   "outputs": [],
   "source": [
    "cB[row] = c[x_i]"
   ]
  },
  {
   "cell_type": "code",
   "execution_count": 779,
   "metadata": {},
   "outputs": [
    {
     "data": {
      "text/plain": [
       "[0, -20.0, -60.0]"
      ]
     },
     "execution_count": 779,
     "metadata": {},
     "output_type": "execute_result"
    }
   ],
   "source": [
    "cB"
   ]
  },
  {
   "cell_type": "code",
   "execution_count": 780,
   "metadata": {},
   "outputs": [
    {
     "data": {
      "text/plain": [
       "[[1.0, 0, 0], [0, 1.0, 0], [0.0, 0.0, 1.0]]"
      ]
     },
     "execution_count": 780,
     "metadata": {},
     "output_type": "execute_result"
    }
   ],
   "source": [
    "B"
   ]
  },
  {
   "cell_type": "code",
   "execution_count": 781,
   "metadata": {},
   "outputs": [
    {
     "data": {
      "text/plain": [
       "[[1.0, 0.0, 0.0],\n",
       " [-0.6666666666666666, 0.6666666666666666, -0.3333333333333333],\n",
       " [0.0, 0.0, 1.0]]"
      ]
     },
     "execution_count": 781,
     "metadata": {},
     "output_type": "execute_result"
    }
   ],
   "source": [
    "B_inverse"
   ]
  }
 ],
 "metadata": {
  "kernelspec": {
   "display_name": "Python 3",
   "language": "python",
   "name": "python3"
  },
  "language_info": {
   "codemirror_mode": {
    "name": "ipython",
    "version": 3
   },
   "file_extension": ".py",
   "mimetype": "text/x-python",
   "name": "python",
   "nbconvert_exporter": "python",
   "pygments_lexer": "ipython3",
   "version": "3.9.6"
  }
 },
 "nbformat": 4,
 "nbformat_minor": 2
}
