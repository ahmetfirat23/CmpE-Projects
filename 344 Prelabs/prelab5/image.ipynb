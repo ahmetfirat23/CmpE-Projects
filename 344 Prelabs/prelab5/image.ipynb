{
 "cells": [
  {
   "cell_type": "code",
   "execution_count": 3,
   "metadata": {},
   "outputs": [],
   "source": [
    "from PIL import Image\n",
    "\n",
    "# Open an image file\n",
    "image_path = \"pic.jpeg\"\n",
    "original_image = Image.open(image_path)\n",
    "\n",
    "# Specify the desired size\n",
    "new_size = (2048, 1024)  # Replace width and height with your desired values\n",
    "\n",
    "# Resize the image\n",
    "resized_image = original_image.resize(new_size)\n",
    "\n",
    "# Save or display the resized image\n",
    "resized_image.save(\"pic_new.jpeg\")  # Save the resized image\n",
    "resized_image.show()  # Display the resized image\n"
   ]
  },
  {
   "cell_type": "code",
   "execution_count": null,
   "metadata": {},
   "outputs": [],
   "source": []
  }
 ],
 "metadata": {
  "kernelspec": {
   "display_name": "Python 3",
   "language": "python",
   "name": "python3"
  },
  "language_info": {
   "codemirror_mode": {
    "name": "ipython",
    "version": 3
   },
   "file_extension": ".py",
   "mimetype": "text/x-python",
   "name": "python",
   "nbconvert_exporter": "python",
   "pygments_lexer": "ipython3",
   "version": "3.11.5"
  }
 },
 "nbformat": 4,
 "nbformat_minor": 2
}
