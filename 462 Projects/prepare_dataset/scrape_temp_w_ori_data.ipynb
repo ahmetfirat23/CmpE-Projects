{
 "cells": [
  {
   "cell_type": "code",
   "execution_count": 2,
   "metadata": {},
   "outputs": [],
   "source": [
    "import pandas as pd\n",
    "import numpy as np\n",
    "import requests\n",
    "import json\n",
    "import openmeteo_requests\n",
    "import requests_cache\n",
    "from retry_requests import retry"
   ]
  },
  {
   "cell_type": "code",
   "execution_count": 3,
   "metadata": {},
   "outputs": [],
   "source": [
    "cache_session = requests_cache.CachedSession('.cache', expire_after = -1)\n",
    "retry_session = retry(cache_session, retries = 5, backoff_factor = 0.2)\n",
    "openmeteo = openmeteo_requests.Client(session = retry_session)\n",
    "url = \"https://archive-api.open-meteo.com/v1/archive\""
   ]
  },
  {
   "cell_type": "code",
   "execution_count": 67,
   "metadata": {},
   "outputs": [],
   "source": [
    "months = [\"OCAK 2024\", \"ŞUBAT 2024\", \"MART 2024\", \"NİSAN 2024\", \"MAYIS 2024\", \"HAZİRAN 2024\"]\n",
    "normal_columns = [(\"date\",\"date\"), (\"kuzey\", \"breakfast\"), (\"kuzey\", \"lunch\"), (\"kuzey\", \"dinner\"), (\"guney\", \"breakfast\"), (\"guney\", \"lunch\"), (\"guney\", \"dinner\"), (\"hisar\", \"breakfast\"), (\"hisar\", \"lunch\"), (\"hisar\", \"dinner\"), (\"kilyos\", \"breakfast\"), (\"kilyos\", \"lunch\"), (\"kilyos\", \"dinner\"),(\"kandilli\", \"breakfast\"), (\"kandilli\", \"lunch\"), (\"kandilli\", \"dinner\"),(\"ahisari\", \"breakfast\"), (\"ahisari\", \"lunch\"), (\"ahisari\", \"dinner\"),(\"cevrimdisi\",\"breakfast\"),(\"cevrimdisi\",\"lunch\"),(\"cevrimdisi\",\"dinner\"),(\"total\",\"breakfast_total\"),(\"total\", \"lunch_total\"),(\"total\", \"dinner_total\"),(\"total\", \"total\")]\n",
    "sahur_colums = [(\"date\",\"date\"),(\"kuzey\", \"sahur\"), (\"kuzey\", \"breakfast\"), (\"kuzey\", \"lunch\"), (\"kuzey\", \"dinner\"), (\"guney\", \"sahur\"), (\"guney\", \"breakfast\"), (\"guney\", \"lunch\"), (\"guney\", \"dinner\"), (\"hisar\", \"sahur\"),  (\"hisar\", \"breakfast\"), (\"hisar\", \"lunch\"), (\"hisar\", \"dinner\"), (\"kilyos\", \"sahur\"), (\"kilyos\", \"breakfast\"), (\"kilyos\", \"lunch\"), (\"kilyos\", \"dinner\"),(\"kandilli\", \"sahur\"), (\"kandilli\", \"breakfast\"), (\"kandilli\", \"lunch\"), (\"kandilli\", \"dinner\"),(\"ahisari\", \"sahur\"), (\"ahisari\", \"breakfast\"), (\"ahisari\", \"lunch\"), (\"ahisari\", \"dinner\"),(\"cevrimdisi\",\"sahur\"), (\"cevrimdisi\",\"breakfast\"),(\"cevrimdisi\",\"lunch\"),(\"cevrimdisi\",\"dinner\"),(\"total\",\"sahur\"),(\"total\",\"breakfast_total\"),(\"total\", \"lunch_total\"),(\"total\", \"dinner_total\"),(\"total\", \"total\")]\n",
    "meal_hours = [[8, 10], [12, 14], [17, 19]]\n",
    "locations = {\"kuzey\":[41.0836, 29.0518], \"guney\":[41.0836, 29.0518], \"hisar\":[41.0892, 29.0509], \"kilyos\":[41.2446, 29.0128], \"kandilli\":[41.0638, 29.0653], \"ahisari\":[41.0836, 29.0518]}"
   ]
  },
  {
   "cell_type": "code",
   "execution_count": 68,
   "metadata": {},
   "outputs": [],
   "source": [
    "sheets = []\n",
    "for month in months:\n",
    "    df = pd.read_excel(\"data.xlsx\", sheet_name=month)\n",
    "    sheets.append(df)"
   ]
  },
  {
   "cell_type": "code",
   "execution_count": 69,
   "metadata": {},
   "outputs": [
    {
     "name": "stderr",
     "output_type": "stream",
     "text": [
      "/var/folders/d0/4bp0h1hs3t96sr1kpxlzd6540000gn/T/ipykernel_58048/2134229131.py:9: PerformanceWarning: dropping on a non-lexsorted multi-index without a level parameter may impact performance.\n",
      "  df.drop(columns = \"total\", axis=1, inplace=True)\n",
      "/var/folders/d0/4bp0h1hs3t96sr1kpxlzd6540000gn/T/ipykernel_58048/2134229131.py:9: PerformanceWarning: dropping on a non-lexsorted multi-index without a level parameter may impact performance.\n",
      "  df.drop(columns = \"total\", axis=1, inplace=True)\n",
      "/var/folders/d0/4bp0h1hs3t96sr1kpxlzd6540000gn/T/ipykernel_58048/2134229131.py:9: PerformanceWarning: dropping on a non-lexsorted multi-index without a level parameter may impact performance.\n",
      "  df.drop(columns = \"total\", axis=1, inplace=True)\n",
      "/var/folders/d0/4bp0h1hs3t96sr1kpxlzd6540000gn/T/ipykernel_58048/2134229131.py:9: PerformanceWarning: dropping on a non-lexsorted multi-index without a level parameter may impact performance.\n",
      "  df.drop(columns = \"total\", axis=1, inplace=True)\n",
      "/var/folders/d0/4bp0h1hs3t96sr1kpxlzd6540000gn/T/ipykernel_58048/2134229131.py:9: PerformanceWarning: dropping on a non-lexsorted multi-index without a level parameter may impact performance.\n",
      "  df.drop(columns = \"total\", axis=1, inplace=True)\n",
      "/var/folders/d0/4bp0h1hs3t96sr1kpxlzd6540000gn/T/ipykernel_58048/2134229131.py:9: PerformanceWarning: dropping on a non-lexsorted multi-index without a level parameter may impact performance.\n",
      "  df.drop(columns = \"total\", axis=1, inplace=True)\n"
     ]
    }
   ],
   "source": [
    "for i in range(len(sheets)):\n",
    "    df = sheets[i]\n",
    "    columns = normal_columns\n",
    "    if months[i] in [\"MART 2024\", \"NİSAN 2024\"]:\n",
    "        columns = sahur_colums\n",
    "    df.columns = pd.MultiIndex.from_tuples(columns, names=[\"campus\", \"meal\"])\n",
    "    if months[i] in [\"MART 2024\", \"NİSAN 2024\"]:\n",
    "        df.drop(columns=[(\"kuzey\", \"sahur\"), (\"guney\", \"sahur\"), (\"hisar\", \"sahur\"), (\"kilyos\", \"sahur\"), (\"kandilli\", \"sahur\"), (\"ahisari\", \"sahur\"), (\"cevrimdisi\", \"sahur\"), (\"total\", \"sahur\")], axis=1, inplace=True)\n",
    "    df.drop(columns = \"total\", axis=1, inplace=True)\n",
    "    df.drop([0,1], inplace=True)\n",
    "    df.dropna(inplace=True)\n",
    "    df.reset_index(drop=True, inplace=True)\n",
    "    df[\"date\",\"date\"] = pd.to_datetime(df.date.date).dt.strftime(\"%Y-%m-%d\")"
   ]
  },
  {
   "cell_type": "code",
   "execution_count": 70,
   "metadata": {},
   "outputs": [],
   "source": [
    "df = pd.concat(sheets, axis=0, ignore_index=True)"
   ]
  },
  {
   "cell_type": "code",
   "execution_count": 71,
   "metadata": {},
   "outputs": [],
   "source": [
    "df = df.melt(id_vars=[(\"date\",\"date\")])\n",
    "df.columns = [\"date\", \"campus\", \"meal\", \"count\"]"
   ]
  },
  {
   "cell_type": "code",
   "execution_count": 72,
   "metadata": {},
   "outputs": [],
   "source": [
    "kuzey_params = {\n",
    "    \"latitude\": locations[\"kuzey\"][0],\n",
    "    \"longitude\": locations[\"kuzey\"][1],\n",
    "    \"start_date\": df['date'].min(),\n",
    "    \"end_date\": df['date'].max(),\n",
    "    \"hourly\": \"temperature_2m\"\n",
    "}\n",
    "\n",
    "guney_params = {\n",
    "    \"latitude\": locations[\"guney\"][0],\n",
    "    \"longitude\": locations[\"guney\"][1],\n",
    "    \"start_date\": df['date'].min(),\n",
    "    \"end_date\": df['date'].max(),\n",
    "    \"hourly\": \"temperature_2m\"\n",
    "}\n",
    "\n",
    "hisar_params = {\n",
    "    \"latitude\": locations[\"hisar\"][0],\n",
    "    \"longitude\": locations[\"hisar\"][1],\n",
    "    \"start_date\": df['date'].min(),\n",
    "    \"end_date\": df['date'].max(),\n",
    "    \"hourly\": \"temperature_2m\"\n",
    "}\n",
    "\n",
    "kilyos_params = {\n",
    "    \"latitude\": locations[\"kilyos\"][0],\n",
    "    \"longitude\": locations[\"kilyos\"][1],\n",
    "    \"start_date\": df['date'].min(),\n",
    "    \"end_date\": df['date'].max(),\n",
    "    \"hourly\": \"temperature_2m\"\n",
    "}\n",
    "\n",
    "kandilli_params = {\n",
    "    \"latitude\": locations[\"kandilli\"][0],\n",
    "    \"longitude\": locations[\"kandilli\"][1],\n",
    "    \"start_date\": df['date'].min(),\n",
    "    \"end_date\": df['date'].max(),\n",
    "    \"hourly\": \"temperature_2m\"\n",
    "}\n",
    "\n",
    "ahisari_params = {\n",
    "    \"latitude\": locations[\"ahisari\"][0],\n",
    "    \"longitude\": locations[\"ahisari\"][1],\n",
    "    \"start_date\": df['date'].min(),\n",
    "    \"end_date\": df['date'].max(),\n",
    "    \"hourly\": \"temperature_2m\"\n",
    "}\n",
    "\n",
    "kuzey_response = openmeteo.weather_api(url, params=kuzey_params)\n",
    "guney_response = openmeteo.weather_api(url, params=guney_params)\n",
    "hisar_response = openmeteo.weather_api(url, params=hisar_params)\n",
    "kilyos_response = openmeteo.weather_api(url, params=kilyos_params)\n",
    "kandilli_response = openmeteo.weather_api(url, params=kandilli_params)\n",
    "ahisari_response = openmeteo.weather_api(url, params=ahisari_params)"
   ]
  },
  {
   "cell_type": "code",
   "execution_count": 73,
   "metadata": {},
   "outputs": [
    {
     "data": {
      "text/plain": [
       "3822"
      ]
     },
     "execution_count": 73,
     "metadata": {},
     "output_type": "execute_result"
    }
   ],
   "source": [
    "len(df)"
   ]
  },
  {
   "cell_type": "code",
   "execution_count": 74,
   "metadata": {},
   "outputs": [],
   "source": [
    "kuzey_weather = kuzey_response[0].Hourly().Variables(0).ValuesAsNumpy().reshape(-1, 24)\n",
    "guney_weather = guney_response[0].Hourly().Variables(0).ValuesAsNumpy().reshape(-1, 24)\n",
    "hisar_weather = hisar_response[0].Hourly().Variables(0).ValuesAsNumpy().reshape(-1, 24)\n",
    "kilyos_weather = kilyos_response[0].Hourly().Variables(0).ValuesAsNumpy().reshape(-1, 24)\n",
    "kandilli_weather = kandilli_response[0].Hourly().Variables(0).ValuesAsNumpy().reshape(-1, 24)\n",
    "ahisari_weather = ahisari_response[0].Hourly().Variables(0).ValuesAsNumpy().reshape(-1, 24)\n",
    "\n",
    "kuzey_breakfast_weather = kuzey_weather[:, meal_hours[0][0]:meal_hours[0][1]].mean(axis=1)\n",
    "kuzey_lunch_weather = kuzey_weather[:, meal_hours[1][0]:meal_hours[1][1]].mean(axis=1)\n",
    "kuzey_dinner_weather = kuzey_weather[:, meal_hours[2][0]:meal_hours[2][1]].mean(axis=1)\n",
    "\n",
    "guney_breakfast_weather = guney_weather[:, meal_hours[0][0]:meal_hours[0][1]].mean(axis=1)\n",
    "guney_lunch_weather = guney_weather[:, meal_hours[1][0]:meal_hours[1][1]].mean(axis=1)\n",
    "guney_dinner_weather = guney_weather[:, meal_hours[2][0]:meal_hours[2][1]].mean(axis=1)\n",
    "\n",
    "hisar_breakfast_weather = hisar_weather[:, meal_hours[0][0]:meal_hours[0][1]].mean(axis=1)\n",
    "hisar_lunch_weather = hisar_weather[:, meal_hours[1][0]:meal_hours[1][1]].mean(axis=1)\n",
    "hisar_dinner_weather = hisar_weather[:, meal_hours[2][0]:meal_hours[2][1]].mean(axis=1)\n",
    "\n",
    "kilyos_breakfast_weather = kilyos_weather[:, meal_hours[0][0]:meal_hours[0][1]].mean(axis=1)\n",
    "kilyos_lunch_weather = kilyos_weather[:, meal_hours[1][0]:meal_hours[1][1]].mean(axis=1)\n",
    "kilyos_dinner_weather = kilyos_weather[:, meal_hours[2][0]:meal_hours[2][1]].mean(axis=1)\n",
    "\n",
    "kandilli_breakfast_weather = kandilli_weather[:, meal_hours[0][0]:meal_hours[0][1]].mean(axis=1)\n",
    "kandilli_lunch_weather = kandilli_weather[:, meal_hours[1][0]:meal_hours[1][1]].mean(axis=1)\n",
    "kandilli_dinner_weather = kandilli_weather[:, meal_hours[2][0]:meal_hours[2][1]].mean(axis=1)\n",
    "\n",
    "ahisari_breakfast_weather = ahisari_weather[:, meal_hours[0][0]:meal_hours[0][1]].mean(axis=1)\n",
    "ahisari_lunch_weather = ahisari_weather[:, meal_hours[1][0]:meal_hours[1][1]].mean(axis=1)\n",
    "ahisari_dinner_weather = ahisari_weather[:, meal_hours[2][0]:meal_hours[2][1]].mean(axis=1)\n",
    "\n",
    "cevrimdisi_weather = (df['campus'] == \"cevrimdisi\").sum() * [np.nan]\n"
   ]
  },
  {
   "cell_type": "code",
   "execution_count": 75,
   "metadata": {},
   "outputs": [],
   "source": [
    "a = np.concatenate([kuzey_breakfast_weather, kuzey_lunch_weather, kuzey_dinner_weather, guney_breakfast_weather, guney_lunch_weather, guney_dinner_weather, hisar_breakfast_weather, hisar_lunch_weather, hisar_dinner_weather, kilyos_breakfast_weather, kilyos_lunch_weather, kilyos_dinner_weather, kandilli_breakfast_weather, kandilli_lunch_weather, kandilli_dinner_weather, ahisari_breakfast_weather, ahisari_lunch_weather, ahisari_dinner_weather], dtype=np.float16)\n",
    "x = a.round(2)\n",
    "weather = np.concatenate([x, cevrimdisi_weather], dtype=np.float16)"
   ]
  },
  {
   "cell_type": "code",
   "execution_count": 76,
   "metadata": {},
   "outputs": [],
   "source": [
    "df.insert(3, \"weather\", weather)"
   ]
  },
  {
   "cell_type": "code",
   "execution_count": 77,
   "metadata": {},
   "outputs": [],
   "source": [
    "df.to_csv(\"data.csv\", index=False)"
   ]
  }
 ],
 "metadata": {
  "kernelspec": {
   "display_name": "a2",
   "language": "python",
   "name": "python3"
  },
  "language_info": {
   "codemirror_mode": {
    "name": "ipython",
    "version": 3
   },
   "file_extension": ".py",
   "mimetype": "text/x-python",
   "name": "python",
   "nbconvert_exporter": "python",
   "pygments_lexer": "ipython3",
   "version": "3.10.13"
  }
 },
 "nbformat": 4,
 "nbformat_minor": 2
}
